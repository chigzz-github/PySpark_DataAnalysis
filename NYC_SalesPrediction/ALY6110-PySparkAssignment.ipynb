{
 "cells": [
  {
   "cell_type": "code",
   "execution_count": null,
   "metadata": {},
   "outputs": [],
   "source": [
    "#conda install -c conda-forge findspark"
   ]
  },
  {
   "cell_type": "code",
   "execution_count": 1,
   "metadata": {},
   "outputs": [
    {
     "data": {
      "text/plain": [
       "'C:\\\\Sparkjava\\\\spark-2.4.5-bin-hadoop2.7'"
      ]
     },
     "execution_count": 1,
     "metadata": {},
     "output_type": "execute_result"
    }
   ],
   "source": [
    "import findspark\n",
    "findspark.init()\n",
    "findspark.find()\n",
    "import pyspark\n",
    "findspark.find()"
   ]
  },
  {
   "cell_type": "code",
   "execution_count": 2,
   "metadata": {},
   "outputs": [
    {
     "name": "stdout",
     "output_type": "stream",
     "text": [
      "2.4.5\n"
     ]
    }
   ],
   "source": [
    "import pyspark # only run after findspark.init()\n",
    "from pyspark.sql import SparkSession\n",
    "import warnings\n",
    "import pandas as pd\n",
    "from pyspark.sql import SQLContext\n",
    "from pyspark.sql import *\n",
    "from pyspark.sql.functions import *\n",
    "spark = SparkSession.builder.getOrCreate()\n",
    "sqlContext = SQLContext(spark)\n",
    "print(spark.version)"
   ]
  },
  {
   "cell_type": "code",
   "execution_count": 3,
   "metadata": {},
   "outputs": [
    {
     "data": {
      "text/plain": [
       "DataFrame[Date: timestamp, RegionID: int, RegionName: int, State: string, Metro: string, County: string, City: string, SizeRank: int, Zhvi: int, MoM: double, QoQ: string, YoY: string, 5Year: string, 10Year: string, PeakMonth: string, PeakQuarter: string, PeakZHVI: int, PctFallFromPeak: double, LastTimeAtCurrZHVI: string]"
      ]
     },
     "metadata": {},
     "output_type": "display_data"
    }
   ],
   "source": [
    "file_path = \"C:/DataMngtBigData/Week04/Zip_Zhvi_Summary_AllHomes.csv\"\n",
    "home_df = spark.read.format(\"csv\").option(\"inferSchema\", True).option(\"header\", True).load(file_path)\n",
    "display(home_df)\n"
   ]
  },
  {
   "cell_type": "code",
   "execution_count": 117,
   "metadata": {},
   "outputs": [],
   "source": [
    "home_df.createOrReplaceTempView(\"home_data_table\") # create temporary table"
   ]
  },
  {
   "cell_type": "code",
   "execution_count": 118,
   "metadata": {},
   "outputs": [
    {
     "data": {
      "text/plain": [
       "pyspark.sql.dataframe.DataFrame"
      ]
     },
     "execution_count": 118,
     "metadata": {},
     "output_type": "execute_result"
    }
   ],
   "source": [
    "type(home_df)"
   ]
  },
  {
   "cell_type": "code",
   "execution_count": 119,
   "metadata": {},
   "outputs": [
    {
     "data": {
      "text/plain": [
       "30134"
      ]
     },
     "execution_count": 119,
     "metadata": {},
     "output_type": "execute_result"
    }
   ],
   "source": [
    "home_df.count()"
   ]
  },
  {
   "cell_type": "code",
   "execution_count": 120,
   "metadata": {},
   "outputs": [
    {
     "data": {
      "text/plain": [
       "[Row(Date=datetime.datetime(2020, 3, 31, 0, 0), RegionID=61639, RegionName=10025, State='NY', Metro='New York-Newark-Jersey City', County='New York County', City='New York', SizeRank=0, Zhvi=1085142, MoM=-0.000332742488632599, QoQ=None, YoY=None, 5Year=None, 10Year=None, PeakMonth='2016-12', PeakQuarter='2016-Q4', PeakZHVI=1274615, PctFallFromPeak=-0.148651161331069, LastTimeAtCurrZHVI='2014-04'),\n",
       " Row(Date=datetime.datetime(2020, 3, 31, 0, 0), RegionID=84654, RegionName=60657, State='IL', Metro='Chicago-Naperville-Elgin', County='Cook County', City='Chicago', SizeRank=1, Zhvi=491246, MoM=3.59533587470651e-05, QoQ=None, YoY=None, 5Year=None, 10Year=None, PeakMonth='2018-12', PeakQuarter='2018-Q4', PeakZHVI=499880, PctFallFromPeak=-0.0172721453148756, LastTimeAtCurrZHVI='2017-12'),\n",
       " Row(Date=datetime.datetime(2020, 3, 31, 0, 0), RegionID=61637, RegionName=10023, State='NY', Metro='New York-Newark-Jersey City', County='New York County', City='New York', SizeRank=2, Zhvi=1221711, MoM=2.43941089138389e-06, QoQ=None, YoY=None, 5Year=None, 10Year=None, PeakMonth='2017-06', PeakQuarter='2017-Q2', PeakZHVI=1316646, PctFallFromPeak=-0.0721036633992736, LastTimeAtCurrZHVI='2015-05'),\n",
       " Row(Date=datetime.datetime(2020, 3, 31, 0, 0), RegionID=91982, RegionName=77494, State='TX', Metro='Houston-The Woodlands-Sugar Land', County='Harris County', City='Katy', SizeRank=3, Zhvi=336286, MoM=1.31667808940013e-05, QoQ=None, YoY=None, 5Year=None, 10Year=None, PeakMonth='2015-10', PeakQuarter='2015-Q4', PeakZHVI=339339, PctFallFromPeak=-0.00899690280221254, LastTimeAtCurrZHVI='2015-06')]"
      ]
     },
     "execution_count": 120,
     "metadata": {},
     "output_type": "execute_result"
    }
   ],
   "source": [
    "home_df.take(4)"
   ]
  },
  {
   "cell_type": "code",
   "execution_count": 121,
   "metadata": {},
   "outputs": [],
   "source": [
    "home_df = home_df.drop(\"5YEAR\",\"QOQ\",\"YOY\",\"10YEAR\")"
   ]
  },
  {
   "cell_type": "code",
   "execution_count": 122,
   "metadata": {},
   "outputs": [],
   "source": [
    "home_df = home_df.drop(\"REGIONID\",\"REGIONNAME\")"
   ]
  },
  {
   "cell_type": "code",
   "execution_count": 123,
   "metadata": {},
   "outputs": [
    {
     "name": "stdout",
     "output_type": "stream",
     "text": [
      "root\n",
      " |-- Date: timestamp (nullable = true)\n",
      " |-- State: string (nullable = true)\n",
      " |-- Metro: string (nullable = true)\n",
      " |-- County: string (nullable = true)\n",
      " |-- City: string (nullable = true)\n",
      " |-- SizeRank: integer (nullable = true)\n",
      " |-- Zhvi: integer (nullable = true)\n",
      " |-- MoM: double (nullable = true)\n",
      " |-- PeakMonth: string (nullable = true)\n",
      " |-- PeakQuarter: string (nullable = true)\n",
      " |-- PeakZHVI: integer (nullable = true)\n",
      " |-- PctFallFromPeak: double (nullable = true)\n",
      " |-- LastTimeAtCurrZHVI: string (nullable = true)\n",
      "\n"
     ]
    }
   ],
   "source": [
    "home_df.printSchema()"
   ]
  },
  {
   "cell_type": "code",
   "execution_count": 124,
   "metadata": {},
   "outputs": [
    {
     "data": {
      "text/plain": [
       "30134"
      ]
     },
     "execution_count": 124,
     "metadata": {},
     "output_type": "execute_result"
    }
   ],
   "source": [
    "home_df.select('COUNTY','STATE', 'CITY').dropDuplicates()\n",
    "home_df.count()"
   ]
  },
  {
   "cell_type": "code",
   "execution_count": 125,
   "metadata": {},
   "outputs": [
    {
     "name": "stdout",
     "output_type": "stream",
     "text": [
      "1758\n",
      "51\n",
      "14770\n"
     ]
    }
   ],
   "source": [
    "print(home_df.select('COUNTY').distinct().count())\n",
    "print(home_df.select('STATE').distinct().count())\n",
    "print(home_df.select('CITY').distinct().count())"
   ]
  },
  {
   "cell_type": "code",
   "execution_count": 136,
   "metadata": {},
   "outputs": [
    {
     "name": "stdout",
     "output_type": "stream",
     "text": [
      "+-------+---------+------------------+\n",
      "|summary|PeakMonth|          PeakZHVI|\n",
      "+-------+---------+------------------+\n",
      "|  count|    30134|             30134|\n",
      "|   mean|     null|229228.32786885247|\n",
      "| stddev|     null|226264.79354344108|\n",
      "|    min|  1996-01|             11492|\n",
      "|    max|  2020-03|           6612392|\n",
      "+-------+---------+------------------+\n",
      "\n"
     ]
    }
   ],
   "source": [
    "home_df.select(['Zhvi', 'PeakZHVI']).describe().show()"
   ]
  },
  {
   "cell_type": "code",
   "execution_count": 101,
   "metadata": {},
   "outputs": [
    {
     "name": "stdout",
     "output_type": "stream",
     "text": [
      "+-------------------+--------+----------+-----+\n",
      "|               Date|RegionID|RegionName|State|\n",
      "+-------------------+--------+----------+-----+\n",
      "|2020-03-31 00:00:00|   61639|     10025|   NY|\n",
      "|2020-03-31 00:00:00|   84654|     60657|   IL|\n",
      "|2020-03-31 00:00:00|   61637|     10023|   NY|\n",
      "|2020-03-31 00:00:00|   91982|     77494|   TX|\n",
      "|2020-03-31 00:00:00|   84616|     60614|   IL|\n",
      "+-------------------+--------+----------+-----+\n",
      "only showing top 5 rows\n",
      "\n"
     ]
    }
   ],
   "source": [
    "spark.sql(\"\"\"select Date, RegionID , RegionName,State from home_data_table\"\"\").show(5)"
   ]
  },
  {
   "cell_type": "code",
   "execution_count": 104,
   "metadata": {},
   "outputs": [
    {
     "name": "stdout",
     "output_type": "stream",
     "text": [
      "+------------+--------+\n",
      "|        CITY|count(1)|\n",
      "+------------+--------+\n",
      "|    Bluffton|       9|\n",
      "|Saint George|       6|\n",
      "|   Worcester|      11|\n",
      "|       Tyler|       7|\n",
      "|  Prattville|       3|\n",
      "+------------+--------+\n",
      "only showing top 5 rows\n",
      "\n"
     ]
    }
   ],
   "source": [
    "df1=spark.sql(\"\"\" select CITY,COUNT(*) from home_data_table GROUP BY CITY \"\"\").show(5)"
   ]
  },
  {
   "cell_type": "code",
   "execution_count": 107,
   "metadata": {},
   "outputs": [
    {
     "data": {
      "text/plain": [
       "DataFrame[ZHVI: int, PeakZHVI: int]"
      ]
     },
     "metadata": {},
     "output_type": "display_data"
    }
   ],
   "source": [
    "display(spark.sql(\"\"\"select ZHVI,PeakZHVI from home_data_table \"\"\"))"
   ]
  },
  {
   "cell_type": "code",
   "execution_count": 351,
   "metadata": {},
   "outputs": [],
   "source": [
    "import seaborn as sns\n",
    "import matplotlib.pyplot as plt"
   ]
  },
  {
   "cell_type": "markdown",
   "metadata": {},
   "source": [
    "### Converting Spark DataFrame to Pandas Dataframe"
   ]
  },
  {
   "cell_type": "code",
   "execution_count": 146,
   "metadata": {
    "scrolled": true
   },
   "outputs": [
    {
     "data": {
      "text/html": [
       "<div>\n",
       "<style scoped>\n",
       "    .dataframe tbody tr th:only-of-type {\n",
       "        vertical-align: middle;\n",
       "    }\n",
       "\n",
       "    .dataframe tbody tr th {\n",
       "        vertical-align: top;\n",
       "    }\n",
       "\n",
       "    .dataframe thead th {\n",
       "        text-align: right;\n",
       "    }\n",
       "</style>\n",
       "<table border=\"1\" class=\"dataframe\">\n",
       "  <thead>\n",
       "    <tr style=\"text-align: right;\">\n",
       "      <th></th>\n",
       "      <th>Date</th>\n",
       "      <th>State</th>\n",
       "      <th>Metro</th>\n",
       "      <th>County</th>\n",
       "      <th>City</th>\n",
       "      <th>SizeRank</th>\n",
       "      <th>Zhvi</th>\n",
       "      <th>MoM</th>\n",
       "      <th>PeakMonth</th>\n",
       "      <th>PeakQuarter</th>\n",
       "      <th>PeakZHVI</th>\n",
       "      <th>PctFallFromPeak</th>\n",
       "      <th>LastTimeAtCurrZHVI</th>\n",
       "    </tr>\n",
       "  </thead>\n",
       "  <tbody>\n",
       "    <tr>\n",
       "      <th>0</th>\n",
       "      <td>2020-03-31</td>\n",
       "      <td>NY</td>\n",
       "      <td>New York-Newark-Jersey City</td>\n",
       "      <td>New York County</td>\n",
       "      <td>New York</td>\n",
       "      <td>0</td>\n",
       "      <td>1085142</td>\n",
       "      <td>-0.000333</td>\n",
       "      <td>2016-12</td>\n",
       "      <td>2016-Q4</td>\n",
       "      <td>1274615</td>\n",
       "      <td>-0.148651</td>\n",
       "      <td>2014-04</td>\n",
       "    </tr>\n",
       "    <tr>\n",
       "      <th>1</th>\n",
       "      <td>2020-03-31</td>\n",
       "      <td>IL</td>\n",
       "      <td>Chicago-Naperville-Elgin</td>\n",
       "      <td>Cook County</td>\n",
       "      <td>Chicago</td>\n",
       "      <td>1</td>\n",
       "      <td>491246</td>\n",
       "      <td>0.000036</td>\n",
       "      <td>2018-12</td>\n",
       "      <td>2018-Q4</td>\n",
       "      <td>499880</td>\n",
       "      <td>-0.017272</td>\n",
       "      <td>2017-12</td>\n",
       "    </tr>\n",
       "    <tr>\n",
       "      <th>2</th>\n",
       "      <td>2020-03-31</td>\n",
       "      <td>NY</td>\n",
       "      <td>New York-Newark-Jersey City</td>\n",
       "      <td>New York County</td>\n",
       "      <td>New York</td>\n",
       "      <td>2</td>\n",
       "      <td>1221711</td>\n",
       "      <td>0.000002</td>\n",
       "      <td>2017-06</td>\n",
       "      <td>2017-Q2</td>\n",
       "      <td>1316646</td>\n",
       "      <td>-0.072104</td>\n",
       "      <td>2015-05</td>\n",
       "    </tr>\n",
       "    <tr>\n",
       "      <th>3</th>\n",
       "      <td>2020-03-31</td>\n",
       "      <td>TX</td>\n",
       "      <td>Houston-The Woodlands-Sugar Land</td>\n",
       "      <td>Harris County</td>\n",
       "      <td>Katy</td>\n",
       "      <td>3</td>\n",
       "      <td>336286</td>\n",
       "      <td>0.000013</td>\n",
       "      <td>2015-10</td>\n",
       "      <td>2015-Q4</td>\n",
       "      <td>339339</td>\n",
       "      <td>-0.008997</td>\n",
       "      <td>2015-06</td>\n",
       "    </tr>\n",
       "    <tr>\n",
       "      <th>4</th>\n",
       "      <td>2020-03-31</td>\n",
       "      <td>IL</td>\n",
       "      <td>Chicago-Naperville-Elgin</td>\n",
       "      <td>Cook County</td>\n",
       "      <td>Chicago</td>\n",
       "      <td>4</td>\n",
       "      <td>638027</td>\n",
       "      <td>0.000005</td>\n",
       "      <td>2018-12</td>\n",
       "      <td>2018-Q4</td>\n",
       "      <td>653091</td>\n",
       "      <td>-0.023066</td>\n",
       "      <td>2017-03</td>\n",
       "    </tr>\n",
       "  </tbody>\n",
       "</table>\n",
       "</div>"
      ],
      "text/plain": [
       "        Date State                             Metro           County  \\\n",
       "0 2020-03-31    NY       New York-Newark-Jersey City  New York County   \n",
       "1 2020-03-31    IL          Chicago-Naperville-Elgin      Cook County   \n",
       "2 2020-03-31    NY       New York-Newark-Jersey City  New York County   \n",
       "3 2020-03-31    TX  Houston-The Woodlands-Sugar Land    Harris County   \n",
       "4 2020-03-31    IL          Chicago-Naperville-Elgin      Cook County   \n",
       "\n",
       "       City  SizeRank     Zhvi       MoM PeakMonth PeakQuarter  PeakZHVI  \\\n",
       "0  New York         0  1085142 -0.000333   2016-12     2016-Q4   1274615   \n",
       "1   Chicago         1   491246  0.000036   2018-12     2018-Q4    499880   \n",
       "2  New York         2  1221711  0.000002   2017-06     2017-Q2   1316646   \n",
       "3      Katy         3   336286  0.000013   2015-10     2015-Q4    339339   \n",
       "4   Chicago         4   638027  0.000005   2018-12     2018-Q4    653091   \n",
       "\n",
       "   PctFallFromPeak LastTimeAtCurrZHVI  \n",
       "0        -0.148651            2014-04  \n",
       "1        -0.017272            2017-12  \n",
       "2        -0.072104            2015-05  \n",
       "3        -0.008997            2015-06  \n",
       "4        -0.023066            2017-03  "
      ]
     },
     "execution_count": 146,
     "metadata": {},
     "output_type": "execute_result"
    }
   ],
   "source": [
    "home_df_pandas = home_df.toPandas()\n",
    "#home_df_subset = home_df.select(['Zhvi', 'PeakZHVI'])\\.sample(withReplacement=False, fraction=0.5, seed=42)\n",
    "home_df_pandas.head()"
   ]
  },
  {
   "cell_type": "markdown",
   "metadata": {},
   "source": [
    "### EDA"
   ]
  },
  {
   "cell_type": "code",
   "execution_count": 148,
   "metadata": {},
   "outputs": [
    {
     "data": {
      "text/plain": [
       "<seaborn.axisgrid.FacetGrid at 0x1fae6ec4ac8>"
      ]
     },
     "execution_count": 148,
     "metadata": {},
     "output_type": "execute_result"
    },
    {
     "data": {
      "image/png": "[encoded data removed]",
      "text/plain": [
       "<Figure size 360x360 with 1 Axes>"
      ]
     },
     "metadata": {
      "needs_background": "light"
     },
     "output_type": "display_data"
    }
   ],
   "source": [
    "sns.lmplot(y = 'Zhvi', x = 'PeakZHVI', data=home_df_pandas)"
   ]
  },
  {
   "cell_type": "code",
   "execution_count": 160,
   "metadata": {},
   "outputs": [
    {
     "data": {
      "image/png": "[encoded data removed]",
      "text/plain": [
       "<Figure size 432x288 with 1 Axes>"
      ]
     },
     "metadata": {
      "needs_background": "light"
     },
     "output_type": "display_data"
    }
   ],
   "source": [
    "sns.distplot(home_df_pandas['Zhvi'])\n",
    "plt.xlabel('Zhvi') \n",
    "plt.show()"
   ]
  },
  {
   "cell_type": "code",
   "execution_count": 164,
   "metadata": {},
   "outputs": [
    {
     "data": {
      "text/plain": [
       "array([[<matplotlib.axes._subplots.AxesSubplot object at 0x000001FAE9A527C8>]],\n",
       "      dtype=object)"
      ]
     },
     "execution_count": 164,
     "metadata": {},
     "output_type": "execute_result"
    },
    {
     "data": {
      "image/png": "[encoded data removed]",
      "text/plain": [
       "<Figure size 432x288 with 1 Axes>"
      ]
     },
     "metadata": {
      "needs_background": "light"
     },
     "output_type": "display_data"
    }
   ],
   "source": [
    "home_df_pandas.hist('PeakZHVI',bins=3)"
   ]
  },
  {
   "cell_type": "markdown",
   "metadata": {},
   "source": [
    "### Analysis based on particular state\n",
    "### Using sqlContext.sql to get Spark Dataframe"
   ]
  },
  {
   "cell_type": "code",
   "execution_count": 194,
   "metadata": {},
   "outputs": [
    {
     "name": "stdout",
     "output_type": "stream",
     "text": [
      "+-----+--------+\n",
      "|STATE|PeakZHVI|\n",
      "+-----+--------+\n",
      "|   CA| 6612392|\n",
      "|   NY| 4368033|\n",
      "|   CA| 4348194|\n",
      "|   CA| 4138998|\n",
      "|   CA| 3858212|\n",
      "|   CA| 3781768|\n",
      "|   MA| 3726034|\n",
      "|   NY| 3500608|\n",
      "|   CA| 3448575|\n",
      "|   FL| 3364591|\n",
      "|   CA| 3343063|\n",
      "|   NY| 3282902|\n",
      "|   NY| 3243807|\n",
      "|   NY| 3222553|\n",
      "|   CO| 3143847|\n",
      "|   CA| 3128878|\n",
      "|   NY| 3120617|\n",
      "|   CA| 3048343|\n",
      "|   WA| 2997873|\n",
      "|   CA| 2983776|\n",
      "+-----+--------+\n",
      "only showing top 20 rows\n",
      "\n"
     ]
    }
   ],
   "source": [
    "df3=sqlContext.sql(\" select STATE,PeakZHVI from home_data_table GROUP BY STATE,PeakZHVI order by PeakZHVI desc \").show()\n"
   ]
  },
  {
   "cell_type": "markdown",
   "metadata": {},
   "source": [
    "#### We got the CA state which has the highest PeakZHVI, now digging deeper to get highest PeakZHVI on CA county"
   ]
  },
  {
   "cell_type": "code",
   "execution_count": 195,
   "metadata": {},
   "outputs": [
    {
     "name": "stdout",
     "output_type": "stream",
     "text": [
      "<class 'pyspark.sql.dataframe.DataFrame'>\n",
      " \n",
      "+--------------------+--------+\n",
      "|              COUNTY|PeakZHVI|\n",
      "+--------------------+--------+\n",
      "|    San Mateo County| 6612392|\n",
      "|  Santa Clara County| 4348194|\n",
      "|  Santa Clara County| 4138998|\n",
      "|    San Mateo County| 3858212|\n",
      "|  Santa Clara County| 3781768|\n",
      "|  Santa Clara County| 3448575|\n",
      "|  Santa Clara County| 3343063|\n",
      "|        Marin County| 3128878|\n",
      "|  Santa Clara County| 3048343|\n",
      "|Santa Barbara County| 2983776|\n",
      "|        Marin County| 2960718|\n",
      "|  Santa Clara County| 2932032|\n",
      "|  Santa Clara County| 2896844|\n",
      "|    San Mateo County| 2885057|\n",
      "|        Marin County| 2788653|\n",
      "|    San Diego County| 2702423|\n",
      "|  Santa Clara County| 2631821|\n",
      "|San Francisco County| 2589464|\n",
      "|    San Mateo County| 2567177|\n",
      "| Contra Costa County| 2451215|\n",
      "+--------------------+--------+\n",
      "only showing top 20 rows\n",
      "\n",
      "None\n"
     ]
    }
   ],
   "source": [
    "df4 =  sqlContext.sql(\"select COUNTY,PeakZHVI from home_data_table WHERE STATE='CA' GROUP BY COUNTY,PeakZHVI order by PeakZHVI desc\")\n",
    "\n",
    "print (type(df4))\n",
    "print (\" \")\n",
    "print (df4.show())"
   ]
  },
  {
   "cell_type": "code",
   "execution_count": 196,
   "metadata": {},
   "outputs": [
    {
     "name": "stderr",
     "output_type": "stream",
     "text": [
      "C:\\Sparkjava\\spark-2.4.5-bin-hadoop2.7\\python\\pyspark\\sql\\dataframe.py:2110: UserWarning: toPandas attempted Arrow optimization because 'spark.sql.execution.arrow.enabled' is set to true; however, failed by the reason below:\n",
      "  PyArrow >= 0.8.0 must be installed; however, it was not found.\n",
      "Attempting non-optimization as 'spark.sql.execution.arrow.fallback.enabled' is set to true.\n",
      "  warnings.warn(msg)\n"
     ]
    },
    {
     "data": {
      "text/html": [
       "<div>\n",
       "<style scoped>\n",
       "    .dataframe tbody tr th:only-of-type {\n",
       "        vertical-align: middle;\n",
       "    }\n",
       "\n",
       "    .dataframe tbody tr th {\n",
       "        vertical-align: top;\n",
       "    }\n",
       "\n",
       "    .dataframe thead th {\n",
       "        text-align: right;\n",
       "    }\n",
       "</style>\n",
       "<table border=\"1\" class=\"dataframe\">\n",
       "  <thead>\n",
       "    <tr style=\"text-align: right;\">\n",
       "      <th></th>\n",
       "      <th>COUNTY</th>\n",
       "      <th>PeakZHVI</th>\n",
       "    </tr>\n",
       "  </thead>\n",
       "  <tbody>\n",
       "    <tr>\n",
       "      <th>0</th>\n",
       "      <td>San Mateo County</td>\n",
       "      <td>6612392</td>\n",
       "    </tr>\n",
       "    <tr>\n",
       "      <th>1</th>\n",
       "      <td>Santa Clara County</td>\n",
       "      <td>4348194</td>\n",
       "    </tr>\n",
       "    <tr>\n",
       "      <th>2</th>\n",
       "      <td>Santa Clara County</td>\n",
       "      <td>4138998</td>\n",
       "    </tr>\n",
       "    <tr>\n",
       "      <th>3</th>\n",
       "      <td>San Mateo County</td>\n",
       "      <td>3858212</td>\n",
       "    </tr>\n",
       "    <tr>\n",
       "      <th>4</th>\n",
       "      <td>Santa Clara County</td>\n",
       "      <td>3781768</td>\n",
       "    </tr>\n",
       "  </tbody>\n",
       "</table>\n",
       "</div>"
      ],
      "text/plain": [
       "               COUNTY  PeakZHVI\n",
       "0    San Mateo County   6612392\n",
       "1  Santa Clara County   4348194\n",
       "2  Santa Clara County   4138998\n",
       "3    San Mateo County   3858212\n",
       "4  Santa Clara County   3781768"
      ]
     },
     "execution_count": 196,
     "metadata": {},
     "output_type": "execute_result"
    }
   ],
   "source": [
    "df4_pandas = df4.toPandas()\n",
    "df4_pandas.head()"
   ]
  },
  {
   "cell_type": "markdown",
   "metadata": {},
   "source": [
    "#### Visualization based on CA state counties"
   ]
  },
  {
   "cell_type": "code",
   "execution_count": 197,
   "metadata": {},
   "outputs": [
    {
     "data": {
      "image/png": "[encoded data removed]",
      "text/plain": [
       "<Figure size 432x288 with 1 Axes>"
      ]
     },
     "metadata": {
      "needs_background": "light"
     },
     "output_type": "display_data"
    }
   ],
   "source": [
    "sns.distplot(df4_pandas['PeakZHVI'])\n",
    "plt.xlabel('PeakZHVI') \n",
    "plt.show()"
   ]
  },
  {
   "cell_type": "code",
   "execution_count": 201,
   "metadata": {},
   "outputs": [
    {
     "name": "stdout",
     "output_type": "stream",
     "text": [
      "CITY        29\n",
      "PeakZHVI    29\n",
      "dtype: int64\n"
     ]
    },
    {
     "data": {
      "text/html": [
       "<div>\n",
       "<style scoped>\n",
       "    .dataframe tbody tr th:only-of-type {\n",
       "        vertical-align: middle;\n",
       "    }\n",
       "\n",
       "    .dataframe tbody tr th {\n",
       "        vertical-align: top;\n",
       "    }\n",
       "\n",
       "    .dataframe thead th {\n",
       "        text-align: right;\n",
       "    }\n",
       "</style>\n",
       "<table border=\"1\" class=\"dataframe\">\n",
       "  <thead>\n",
       "    <tr style=\"text-align: right;\">\n",
       "      <th></th>\n",
       "      <th>CITY</th>\n",
       "      <th>PeakZHVI</th>\n",
       "    </tr>\n",
       "  </thead>\n",
       "  <tbody>\n",
       "    <tr>\n",
       "      <th>0</th>\n",
       "      <td>Atherton</td>\n",
       "      <td>6612392</td>\n",
       "    </tr>\n",
       "    <tr>\n",
       "      <th>1</th>\n",
       "      <td>Portola Valley</td>\n",
       "      <td>3858212</td>\n",
       "    </tr>\n",
       "    <tr>\n",
       "      <th>2</th>\n",
       "      <td>Burlingame</td>\n",
       "      <td>2885057</td>\n",
       "    </tr>\n",
       "    <tr>\n",
       "      <th>3</th>\n",
       "      <td>Menlo Park</td>\n",
       "      <td>2567177</td>\n",
       "    </tr>\n",
       "    <tr>\n",
       "      <th>4</th>\n",
       "      <td>Redwood City</td>\n",
       "      <td>2252749</td>\n",
       "    </tr>\n",
       "  </tbody>\n",
       "</table>\n",
       "</div>"
      ],
      "text/plain": [
       "             CITY  PeakZHVI\n",
       "0        Atherton   6612392\n",
       "1  Portola Valley   3858212\n",
       "2      Burlingame   2885057\n",
       "3      Menlo Park   2567177\n",
       "4    Redwood City   2252749"
      ]
     },
     "execution_count": 201,
     "metadata": {},
     "output_type": "execute_result"
    }
   ],
   "source": [
    "df5=sqlContext.sql(\"select CITY,PeakZHVI from home_data_table WHERE STATE='CA' AND COUNTY='San Mateo County' GROUP BY CITY,PeakZHVI order by PeakZHVI desc\")\n",
    "df5_pandas = df5.toPandas()\n",
    "print(df5_pandas.count())\n",
    "df5_pandas.head()"
   ]
  },
  {
   "cell_type": "code",
   "execution_count": 203,
   "metadata": {},
   "outputs": [
    {
     "name": "stderr",
     "output_type": "stream",
     "text": [
      "C:\\Sparkjava\\spark-2.4.5-bin-hadoop2.7\\python\\pyspark\\sql\\dataframe.py:2110: UserWarning: toPandas attempted Arrow optimization because 'spark.sql.execution.arrow.enabled' is set to true; however, failed by the reason below:\n",
      "  PyArrow >= 0.8.0 must be installed; however, it was not found.\n",
      "Attempting non-optimization as 'spark.sql.execution.arrow.fallback.enabled' is set to true.\n",
      "  warnings.warn(msg)\n"
     ]
    },
    {
     "name": "stdout",
     "output_type": "stream",
     "text": [
      "CITY        29\n",
      "PeakZHVI    29\n",
      "ZHVI        29\n",
      "dtype: int64\n"
     ]
    },
    {
     "data": {
      "text/html": [
       "<div>\n",
       "<style scoped>\n",
       "    .dataframe tbody tr th:only-of-type {\n",
       "        vertical-align: middle;\n",
       "    }\n",
       "\n",
       "    .dataframe tbody tr th {\n",
       "        vertical-align: top;\n",
       "    }\n",
       "\n",
       "    .dataframe thead th {\n",
       "        text-align: right;\n",
       "    }\n",
       "</style>\n",
       "<table border=\"1\" class=\"dataframe\">\n",
       "  <thead>\n",
       "    <tr style=\"text-align: right;\">\n",
       "      <th></th>\n",
       "      <th>CITY</th>\n",
       "      <th>PeakZHVI</th>\n",
       "      <th>ZHVI</th>\n",
       "    </tr>\n",
       "  </thead>\n",
       "  <tbody>\n",
       "    <tr>\n",
       "      <th>0</th>\n",
       "      <td>Atherton</td>\n",
       "      <td>6612392</td>\n",
       "      <td>6612392</td>\n",
       "    </tr>\n",
       "    <tr>\n",
       "      <th>1</th>\n",
       "      <td>Portola Valley</td>\n",
       "      <td>3858212</td>\n",
       "      <td>3776419</td>\n",
       "    </tr>\n",
       "    <tr>\n",
       "      <th>2</th>\n",
       "      <td>Burlingame</td>\n",
       "      <td>2885057</td>\n",
       "      <td>2858412</td>\n",
       "    </tr>\n",
       "    <tr>\n",
       "      <th>3</th>\n",
       "      <td>Menlo Park</td>\n",
       "      <td>2567177</td>\n",
       "      <td>2427708</td>\n",
       "    </tr>\n",
       "    <tr>\n",
       "      <th>4</th>\n",
       "      <td>Redwood City</td>\n",
       "      <td>2252749</td>\n",
       "      <td>2201865</td>\n",
       "    </tr>\n",
       "  </tbody>\n",
       "</table>\n",
       "</div>"
      ],
      "text/plain": [
       "             CITY  PeakZHVI     ZHVI\n",
       "0        Atherton   6612392  6612392\n",
       "1  Portola Valley   3858212  3776419\n",
       "2      Burlingame   2885057  2858412\n",
       "3      Menlo Park   2567177  2427708\n",
       "4    Redwood City   2252749  2201865"
      ]
     },
     "execution_count": 203,
     "metadata": {},
     "output_type": "execute_result"
    }
   ],
   "source": [
    "df6 = sqlContext.sql(\"select CITY,PeakZHVI,ZHVI from home_data_table WHERE STATE='CA' AND COUNTY='San Mateo County' GROUP BY CITY,PeakZHVI,ZHVI order by PeakZHVI desc\")\n",
    "df6_pandas = df6.toPandas()\n",
    "print(df6_pandas.count())\n",
    "df6_pandas.head()\n"
   ]
  },
  {
   "cell_type": "code",
   "execution_count": 216,
   "metadata": {},
   "outputs": [
    {
     "data": {
      "text/plain": [
       "<matplotlib.axes._subplots.AxesSubplot at 0x1faeba8c188>"
      ]
     },
     "execution_count": 216,
     "metadata": {},
     "output_type": "execute_result"
    },
    {
     "data": {
      "image/png": "[encoded data removed]",
      "text/plain": [
       "<Figure size 720x576 with 1 Axes>"
      ]
     },
     "metadata": {
      "needs_background": "light"
     },
     "output_type": "display_data"
    }
   ],
   "source": [
    "from pylab import rcParams\n",
    "rcParams['figure.figsize'] = 10, 8\n",
    "sns.regplot(x=df6_pandas[\"PeakZHVI\"], y=df6_pandas[\"ZHVI\"], fit_reg=False, scatter_kws={\"color\":\"darkred\",\"alpha\":0.3,\"s\":200} )\n",
    "\n"
   ]
  },
  {
   "cell_type": "code",
   "execution_count": 215,
   "metadata": {},
   "outputs": [
    {
     "data": {
      "text/plain": [
       "<matplotlib.legend.Legend at 0x1faeb99c3c8>"
      ]
     },
     "execution_count": 215,
     "metadata": {},
     "output_type": "execute_result"
    },
    {
     "data": {
      "image/png": "[encoded data removed]",
      "text/plain": [
       "<Figure size 1440x576 with 1 Axes>"
      ]
     },
     "metadata": {
      "needs_background": "light"
     },
     "output_type": "display_data"
    }
   ],
   "source": [
    "from pylab import rcParams\n",
    "rcParams['figure.figsize'] = 20, 8\n",
    "plt.plot( 'CITY', 'PeakZHVI', data=df6_pandas, marker='o', markerfacecolor='blue', markersize=12, color='skyblue', linewidth=4)\n",
    "plt.plot( 'CITY', 'ZHVI', data=df6_pandas, marker='', color='olive', linewidth=2)\n",
    "plt.legend()\n"
   ]
  },
  {
   "cell_type": "markdown",
   "metadata": {},
   "source": [
    "# HPI_AT_BDL_ZIP3 Dataset"
   ]
  },
  {
   "cell_type": "code",
   "execution_count": 427,
   "metadata": {},
   "outputs": [
    {
     "name": "stdout",
     "output_type": "stream",
     "text": [
      "<class 'pandas.core.frame.DataFrame'>\n",
      "RangeIndex: 35829 entries, 0 to 35828\n",
      "Data columns (total 6 columns):\n",
      " #   Column                Non-Null Count  Dtype  \n",
      "---  ------                --------------  -----  \n",
      " 0   Three-Digit ZIP Code  35829 non-null  int64  \n",
      " 1   Year                  35829 non-null  int64  \n",
      " 2   Annual Change (%)     34616 non-null  float64\n",
      " 3   HPI                   35617 non-null  float64\n",
      " 4   HPI with 1990 base    34480 non-null  float64\n",
      " 5   HPI with 2000 base    35404 non-null  float64\n",
      "dtypes: float64(4), int64(2)\n",
      "memory usage: 1.6 MB\n"
     ]
    }
   ],
   "source": [
    "df_hpi_pd = pd.read_excel('C:/DataMngtBigData/Week04/HPI_AT_BDL_ZIP3.xlsx')\n",
    "df_hpi_pd.head()\n",
    "df_hpi_pd['Annual Change (%)']=pd.to_numeric(df_hpi_pd['Annual Change (%)'],errors='coerce')\n",
    "df_hpi_pd['HPI']=pd.to_numeric(df_hpi_pd['HPI'],errors='coerce')\n",
    "df_hpi_pd['HPI with 1990 base']=pd.to_numeric(df_hpi_pd['HPI with 1990 base'],errors='coerce')\n",
    "df_hpi_pd['HPI with 2000 base']=pd.to_numeric(df_hpi_pd['HPI with 2000 base'],errors='coerce')\n",
    "df_hpi_pd.dropna()\n",
    "df_hpi_pd.info()"
   ]
  },
  {
   "cell_type": "code",
   "execution_count": 428,
   "metadata": {},
   "outputs": [
    {
     "data": {
      "text/plain": [
       "DataFrame[Three-Digit ZIP Code: bigint, Year: bigint, Annual Change (%): double, HPI: double, HPI with 1990 base: double, HPI with 2000 base: double]"
      ]
     },
     "metadata": {},
     "output_type": "display_data"
    }
   ],
   "source": [
    "hpi_df = spark.createDataFrame(df_hpi_pd)\n",
    "display(hpi_df)"
   ]
  },
  {
   "cell_type": "code",
   "execution_count": 248,
   "metadata": {},
   "outputs": [
    {
     "data": {
      "text/plain": [
       "pyspark.sql.dataframe.DataFrame"
      ]
     },
     "execution_count": 248,
     "metadata": {},
     "output_type": "execute_result"
    }
   ],
   "source": [
    "type(hpi_df)"
   ]
  },
  {
   "cell_type": "code",
   "execution_count": 249,
   "metadata": {},
   "outputs": [
    {
     "data": {
      "text/plain": [
       "35829"
      ]
     },
     "execution_count": 249,
     "metadata": {},
     "output_type": "execute_result"
    }
   ],
   "source": [
    "hpi_df.count()"
   ]
  },
  {
   "cell_type": "code",
   "execution_count": 154,
   "metadata": {},
   "outputs": [
    {
     "name": "stdout",
     "output_type": "stream",
     "text": [
      "+--------------------+----+-----------------+------+------------------+------------------+\n",
      "|Three-Digit ZIP Code|Year|Annual Change (%)|   HPI|HPI with 1990 base|HPI with 2000 base|\n",
      "+--------------------+----+-----------------+------+------------------+------------------+\n",
      "|                  10|1975|              NaN| 100.0|             23.29|              21.8|\n",
      "|                  10|1976|             7.02|107.02|             24.92|             23.33|\n",
      "|                  10|1977|             6.99| 114.5|             26.66|             24.96|\n",
      "|                  10|1978|             7.19|122.73|             28.58|             26.76|\n",
      "|                  10|1979|            16.49|142.97|             33.29|             31.17|\n",
      "|                  10|1980|            12.18|160.39|             37.35|             34.97|\n",
      "|                  10|1981|             7.87| 173.0|             40.29|             37.72|\n",
      "|                  10|1982|            12.47|194.58|             45.31|             42.42|\n",
      "|                  10|1983|             5.58|205.43|             47.84|             44.79|\n",
      "|                  10|1984|            15.36|236.98|             55.18|             51.66|\n",
      "|                  10|1985|             12.1|265.64|             61.86|             57.91|\n",
      "|                  10|1986|            14.62|304.47|              70.9|             66.38|\n",
      "|                  10|1987|            21.42|369.68|             86.08|              80.6|\n",
      "|                  10|1988|            15.62|427.42|             99.53|             93.18|\n",
      "|                  10|1989|             2.56|438.36|            102.08|             95.57|\n",
      "|                  10|1990|            -2.03|429.44|             100.0|             93.62|\n",
      "|                  10|1991|            -3.37|414.98|             96.63|             90.47|\n",
      "|                  10|1992|            -2.05|406.45|             94.65|             88.61|\n",
      "|                  10|1993|            -1.46| 400.5|             93.26|             87.32|\n",
      "|                  10|1994|            -1.33|395.19|             92.02|             86.16|\n",
      "+--------------------+----+-----------------+------+------------------+------------------+\n",
      "only showing top 20 rows\n",
      "\n"
     ]
    }
   ],
   "source": [
    "hpi_df.show()"
   ]
  },
  {
   "cell_type": "code",
   "execution_count": 198,
   "metadata": {},
   "outputs": [
    {
     "name": "stdout",
     "output_type": "stream",
     "text": [
      "root\n",
      " |-- Three-Digit ZIP Code: long (nullable = true)\n",
      " |-- Year: long (nullable = true)\n",
      " |-- Annual Change (%): double (nullable = true)\n",
      " |-- HPI: double (nullable = true)\n",
      " |-- HPI with 1990 base: double (nullable = true)\n",
      " |-- HPI with 2000 base: double (nullable = true)\n",
      "\n"
     ]
    }
   ],
   "source": [
    "hpi_df.printSchema()"
   ]
  },
  {
   "cell_type": "markdown",
   "metadata": {},
   "source": [
    "### Renaming the columns"
   ]
  },
  {
   "cell_type": "code",
   "execution_count": 429,
   "metadata": {
    "scrolled": true
   },
   "outputs": [
    {
     "name": "stdout",
     "output_type": "stream",
     "text": [
      "+--------+----+-------------+------+--------+--------+\n",
      "|Zip_Code|Year|Annual_Change|   HPI|HPI_1990|HPI_2000|\n",
      "+--------+----+-------------+------+--------+--------+\n",
      "|      10|1975|          NaN| 100.0|   23.29|    21.8|\n",
      "|      10|1976|         7.02|107.02|   24.92|   23.33|\n",
      "|      10|1977|         6.99| 114.5|   26.66|   24.96|\n",
      "|      10|1978|         7.19|122.73|   28.58|   26.76|\n",
      "|      10|1979|        16.49|142.97|   33.29|   31.17|\n",
      "|      10|1980|        12.18|160.39|   37.35|   34.97|\n",
      "|      10|1981|         7.87| 173.0|   40.29|   37.72|\n",
      "|      10|1982|        12.47|194.58|   45.31|   42.42|\n",
      "|      10|1983|         5.58|205.43|   47.84|   44.79|\n",
      "|      10|1984|        15.36|236.98|   55.18|   51.66|\n",
      "|      10|1985|         12.1|265.64|   61.86|   57.91|\n",
      "|      10|1986|        14.62|304.47|    70.9|   66.38|\n",
      "|      10|1987|        21.42|369.68|   86.08|    80.6|\n",
      "|      10|1988|        15.62|427.42|   99.53|   93.18|\n",
      "|      10|1989|         2.56|438.36|  102.08|   95.57|\n",
      "|      10|1990|        -2.03|429.44|   100.0|   93.62|\n",
      "|      10|1991|        -3.37|414.98|   96.63|   90.47|\n",
      "|      10|1992|        -2.05|406.45|   94.65|   88.61|\n",
      "|      10|1993|        -1.46| 400.5|   93.26|   87.32|\n",
      "|      10|1994|        -1.33|395.19|   92.02|   86.16|\n",
      "+--------+----+-------------+------+--------+--------+\n",
      "only showing top 20 rows\n",
      "\n"
     ]
    }
   ],
   "source": [
    "#hpi_df=hpi_df.withColumnRenamed(\"Three-Digit ZIP Code\",\"Zip_Code\").printSchema()\n",
    "#hpi_df=hpi_df.withColumnRenamed(\"Annual Change (%)\",\"Annual_Change\").printSchema()\n",
    "#hpi_df=hpi_df.withColumnRenamed(\"HPI with 1990 base\",\"HPI_1990\").printSchema()\n",
    "#hpi_df=hpi_df.withColumnRenamed(\"HPI with 2000 base\",\"HPI_2000\").printSchema()\n",
    "\n",
    "df_dataset= hpi_df.withColumnRenamed(\"Three-Digit ZIP Code\",\"Zip_Code\") \\\n",
    "    .withColumnRenamed(\"Annual Change (%)\",\"Annual_Change\")\\\n",
    "    .withColumnRenamed(\"HPI with 1990 base\",\"HPI_1990\")\\\n",
    "    .withColumnRenamed(\"HPI with 2000 base\",\"HPI_2000\")\n",
    "df_dataset.show()"
   ]
  },
  {
   "cell_type": "code",
   "execution_count": 430,
   "metadata": {},
   "outputs": [
    {
     "name": "stdout",
     "output_type": "stream",
     "text": [
      "+--------+----+-------------+------+--------+--------+\n",
      "|Zip_Code|Year|Annual_Change|   HPI|HPI_1990|HPI_2000|\n",
      "+--------+----+-------------+------+--------+--------+\n",
      "|      10|1975|          NaN| 100.0|   23.29|    21.8|\n",
      "|      10|1976|         7.02|107.02|   24.92|   23.33|\n",
      "|      10|1977|         6.99| 114.5|   26.66|   24.96|\n",
      "|      10|1978|         7.19|122.73|   28.58|   26.76|\n",
      "|      10|1979|        16.49|142.97|   33.29|   31.17|\n",
      "|      10|1980|        12.18|160.39|   37.35|   34.97|\n",
      "|      10|1981|         7.87| 173.0|   40.29|   37.72|\n",
      "|      10|1982|        12.47|194.58|   45.31|   42.42|\n",
      "|      10|1983|         5.58|205.43|   47.84|   44.79|\n",
      "|      10|1984|        15.36|236.98|   55.18|   51.66|\n",
      "|      10|1985|         12.1|265.64|   61.86|   57.91|\n",
      "|      10|1986|        14.62|304.47|    70.9|   66.38|\n",
      "|      10|1987|        21.42|369.68|   86.08|    80.6|\n",
      "|      10|1988|        15.62|427.42|   99.53|   93.18|\n",
      "|      10|1989|         2.56|438.36|  102.08|   95.57|\n",
      "|      10|1990|        -2.03|429.44|   100.0|   93.62|\n",
      "|      10|1991|        -3.37|414.98|   96.63|   90.47|\n",
      "|      10|1992|        -2.05|406.45|   94.65|   88.61|\n",
      "|      10|1993|        -1.46| 400.5|   93.26|   87.32|\n",
      "|      10|1994|        -1.33|395.19|   92.02|   86.16|\n",
      "+--------+----+-------------+------+--------+--------+\n",
      "only showing top 20 rows\n",
      "\n"
     ]
    }
   ],
   "source": [
    "df_dataset.na.drop(how='any')\n",
    "df_dataset.show()"
   ]
  },
  {
   "cell_type": "code",
   "execution_count": 431,
   "metadata": {},
   "outputs": [
    {
     "data": {
      "text/plain": [
       "pyspark.sql.dataframe.DataFrame"
      ]
     },
     "execution_count": 431,
     "metadata": {},
     "output_type": "execute_result"
    }
   ],
   "source": [
    "type(df_dataset)"
   ]
  },
  {
   "cell_type": "markdown",
   "metadata": {},
   "source": [
    "### Creating the temporary sql table from dataframe"
   ]
  },
  {
   "cell_type": "code",
   "execution_count": 432,
   "metadata": {},
   "outputs": [],
   "source": [
    "df_dataset.createOrReplaceTempView(\"hpi_data_table\") # create temporary table"
   ]
  },
  {
   "cell_type": "code",
   "execution_count": 315,
   "metadata": {},
   "outputs": [
    {
     "name": "stdout",
     "output_type": "stream",
     "text": [
      "root\n",
      " |-- Zip_Code: long (nullable = true)\n",
      " |-- Year: long (nullable = true)\n",
      " |-- Annual_Change: double (nullable = true)\n",
      " |-- HPI: double (nullable = true)\n",
      " |-- HPI_1990: double (nullable = true)\n",
      " |-- HPI_2000: double (nullable = true)\n",
      "\n"
     ]
    }
   ],
   "source": [
    "df_dataset.printSchema()"
   ]
  },
  {
   "cell_type": "code",
   "execution_count": 433,
   "metadata": {},
   "outputs": [
    {
     "name": "stdout",
     "output_type": "stream",
     "text": [
      "+--------+----+-------------+------+--------+--------+\n",
      "|Zip_Code|Year|Annual_Change|   HPI|HPI_1990|HPI_2000|\n",
      "+--------+----+-------------+------+--------+--------+\n",
      "|      10|1976|         7.02|107.02|   24.92|   23.33|\n",
      "|      10|1977|         6.99| 114.5|   26.66|   24.96|\n",
      "|      10|1978|         7.19|122.73|   28.58|   26.76|\n",
      "|      10|1979|        16.49|142.97|   33.29|   31.17|\n",
      "|      10|1980|        12.18|160.39|   37.35|   34.97|\n",
      "|      10|1981|         7.87| 173.0|   40.29|   37.72|\n",
      "|      10|1982|        12.47|194.58|   45.31|   42.42|\n",
      "|      10|1983|         5.58|205.43|   47.84|   44.79|\n",
      "|      10|1984|        15.36|236.98|   55.18|   51.66|\n",
      "|      10|1985|         12.1|265.64|   61.86|   57.91|\n",
      "|      10|1986|        14.62|304.47|    70.9|   66.38|\n",
      "|      10|1987|        21.42|369.68|   86.08|    80.6|\n",
      "|      10|1988|        15.62|427.42|   99.53|   93.18|\n",
      "|      10|1989|         2.56|438.36|  102.08|   95.57|\n",
      "|      10|1990|        -2.03|429.44|   100.0|   93.62|\n",
      "|      10|1991|        -3.37|414.98|   96.63|   90.47|\n",
      "|      10|1992|        -2.05|406.45|   94.65|   88.61|\n",
      "|      10|1993|        -1.46| 400.5|   93.26|   87.32|\n",
      "|      10|1994|        -1.33|395.19|   92.02|   86.16|\n",
      "|      10|1995|        -0.57|392.95|    91.5|   85.67|\n",
      "+--------+----+-------------+------+--------+--------+\n",
      "only showing top 20 rows\n",
      "\n"
     ]
    }
   ],
   "source": [
    "#drop nan values\n",
    "df_dataset=df_dataset.dropna(subset=['Annual_Change'])\n",
    "df_dataset.show()\n",
    "\n"
   ]
  },
  {
   "cell_type": "code",
   "execution_count": 453,
   "metadata": {},
   "outputs": [],
   "source": [
    "df_dataset_pandas=df_dataset.toPandas()"
   ]
  },
  {
   "cell_type": "code",
   "execution_count": 434,
   "metadata": {},
   "outputs": [
    {
     "name": "stdout",
     "output_type": "stream",
     "text": [
      "+-------+------------------+------------------+-----------------+\n",
      "|summary|              Year|               HPI|    Annual_Change|\n",
      "+-------+------------------+------------------+-----------------+\n",
      "|  count|             34616|             34616|            34616|\n",
      "|   mean|1998.3746822278715| 299.3734697827594|3.913496648948464|\n",
      "| stddev|11.942778941398744|205.86037433839192|6.372764628217662|\n",
      "|    min|              1976|             53.28|           -44.16|\n",
      "|    max|              2018|           2857.74|            84.97|\n",
      "+-------+------------------+------------------+-----------------+\n",
      "\n"
     ]
    }
   ],
   "source": [
    "df_dataset.select(['Year', 'HPI','Annual_Change']).describe().show()"
   ]
  },
  {
   "cell_type": "code",
   "execution_count": 435,
   "metadata": {
    "scrolled": true
   },
   "outputs": [
    {
     "data": {
      "text/html": [
       "<div>\n",
       "<style scoped>\n",
       "    .dataframe tbody tr th:only-of-type {\n",
       "        vertical-align: middle;\n",
       "    }\n",
       "\n",
       "    .dataframe tbody tr th {\n",
       "        vertical-align: top;\n",
       "    }\n",
       "\n",
       "    .dataframe thead th {\n",
       "        text-align: right;\n",
       "    }\n",
       "</style>\n",
       "<table border=\"1\" class=\"dataframe\">\n",
       "  <thead>\n",
       "    <tr style=\"text-align: right;\">\n",
       "      <th></th>\n",
       "      <th>Zip_Code</th>\n",
       "      <th>Year</th>\n",
       "      <th>Annual_Change</th>\n",
       "      <th>HPI</th>\n",
       "      <th>HPI_1990</th>\n",
       "      <th>HPI_2000</th>\n",
       "    </tr>\n",
       "  </thead>\n",
       "  <tbody>\n",
       "    <tr>\n",
       "      <th>0</th>\n",
       "      <td>10</td>\n",
       "      <td>1975</td>\n",
       "      <td>NaN</td>\n",
       "      <td>100.00</td>\n",
       "      <td>23.29</td>\n",
       "      <td>21.80</td>\n",
       "    </tr>\n",
       "    <tr>\n",
       "      <th>1</th>\n",
       "      <td>10</td>\n",
       "      <td>1976</td>\n",
       "      <td>7.02</td>\n",
       "      <td>107.02</td>\n",
       "      <td>24.92</td>\n",
       "      <td>23.33</td>\n",
       "    </tr>\n",
       "    <tr>\n",
       "      <th>2</th>\n",
       "      <td>10</td>\n",
       "      <td>1977</td>\n",
       "      <td>6.99</td>\n",
       "      <td>114.50</td>\n",
       "      <td>26.66</td>\n",
       "      <td>24.96</td>\n",
       "    </tr>\n",
       "    <tr>\n",
       "      <th>3</th>\n",
       "      <td>10</td>\n",
       "      <td>1978</td>\n",
       "      <td>7.19</td>\n",
       "      <td>122.73</td>\n",
       "      <td>28.58</td>\n",
       "      <td>26.76</td>\n",
       "    </tr>\n",
       "    <tr>\n",
       "      <th>4</th>\n",
       "      <td>10</td>\n",
       "      <td>1979</td>\n",
       "      <td>16.49</td>\n",
       "      <td>142.97</td>\n",
       "      <td>33.29</td>\n",
       "      <td>31.17</td>\n",
       "    </tr>\n",
       "  </tbody>\n",
       "</table>\n",
       "</div>"
      ],
      "text/plain": [
       "   Zip_Code  Year  Annual_Change     HPI  HPI_1990  HPI_2000\n",
       "0        10  1975            NaN  100.00     23.29     21.80\n",
       "1        10  1976           7.02  107.02     24.92     23.33\n",
       "2        10  1977           6.99  114.50     26.66     24.96\n",
       "3        10  1978           7.19  122.73     28.58     26.76\n",
       "4        10  1979          16.49  142.97     33.29     31.17"
      ]
     },
     "execution_count": 435,
     "metadata": {},
     "output_type": "execute_result"
    }
   ],
   "source": [
    "dh= sqlContext.sql(\"select * from hpi_data_table\")\n",
    "dh_pandas = dh.toPandas()\n",
    "\n",
    "dh_pandas.head()"
   ]
  },
  {
   "cell_type": "markdown",
   "metadata": {},
   "source": [
    "#### From the below query result we can say that year=2018 with zip_code=830 had the highest HPI_1990"
   ]
  },
  {
   "cell_type": "code",
   "execution_count": 436,
   "metadata": {
    "scrolled": true
   },
   "outputs": [
    {
     "data": {
      "text/html": [
       "<div>\n",
       "<style scoped>\n",
       "    .dataframe tbody tr th:only-of-type {\n",
       "        vertical-align: middle;\n",
       "    }\n",
       "\n",
       "    .dataframe tbody tr th {\n",
       "        vertical-align: top;\n",
       "    }\n",
       "\n",
       "    .dataframe thead th {\n",
       "        text-align: right;\n",
       "    }\n",
       "</style>\n",
       "<table border=\"1\" class=\"dataframe\">\n",
       "  <thead>\n",
       "    <tr style=\"text-align: right;\">\n",
       "      <th></th>\n",
       "      <th>Zip_Code</th>\n",
       "      <th>Year</th>\n",
       "      <th>Annual_Change</th>\n",
       "      <th>HPI</th>\n",
       "      <th>HPI_1990</th>\n",
       "      <th>HPI_2000</th>\n",
       "    </tr>\n",
       "  </thead>\n",
       "  <tbody>\n",
       "    <tr>\n",
       "      <th>1349</th>\n",
       "      <td>830</td>\n",
       "      <td>2018</td>\n",
       "      <td>14.54</td>\n",
       "      <td>926.26</td>\n",
       "      <td>669.89</td>\n",
       "      <td>269.67</td>\n",
       "    </tr>\n",
       "    <tr>\n",
       "      <th>1350</th>\n",
       "      <td>588</td>\n",
       "      <td>2015</td>\n",
       "      <td>5.21</td>\n",
       "      <td>431.06</td>\n",
       "      <td>617.08</td>\n",
       "      <td>397.17</td>\n",
       "    </tr>\n",
       "    <tr>\n",
       "      <th>1351</th>\n",
       "      <td>588</td>\n",
       "      <td>2014</td>\n",
       "      <td>6.15</td>\n",
       "      <td>409.74</td>\n",
       "      <td>586.55</td>\n",
       "      <td>377.52</td>\n",
       "    </tr>\n",
       "    <tr>\n",
       "      <th>1352</th>\n",
       "      <td>830</td>\n",
       "      <td>2017</td>\n",
       "      <td>6.35</td>\n",
       "      <td>808.69</td>\n",
       "      <td>584.86</td>\n",
       "      <td>235.44</td>\n",
       "    </tr>\n",
       "    <tr>\n",
       "      <th>1353</th>\n",
       "      <td>588</td>\n",
       "      <td>2018</td>\n",
       "      <td>3.66</td>\n",
       "      <td>408.20</td>\n",
       "      <td>584.36</td>\n",
       "      <td>376.11</td>\n",
       "    </tr>\n",
       "    <tr>\n",
       "      <th>...</th>\n",
       "      <td>...</td>\n",
       "      <td>...</td>\n",
       "      <td>...</td>\n",
       "      <td>...</td>\n",
       "      <td>...</td>\n",
       "      <td>...</td>\n",
       "    </tr>\n",
       "    <tr>\n",
       "      <th>1344</th>\n",
       "      <td>997</td>\n",
       "      <td>1981</td>\n",
       "      <td>NaN</td>\n",
       "      <td>NaN</td>\n",
       "      <td>NaN</td>\n",
       "      <td>NaN</td>\n",
       "    </tr>\n",
       "    <tr>\n",
       "      <th>1345</th>\n",
       "      <td>997</td>\n",
       "      <td>1982</td>\n",
       "      <td>NaN</td>\n",
       "      <td>NaN</td>\n",
       "      <td>NaN</td>\n",
       "      <td>NaN</td>\n",
       "    </tr>\n",
       "    <tr>\n",
       "      <th>1346</th>\n",
       "      <td>997</td>\n",
       "      <td>1983</td>\n",
       "      <td>NaN</td>\n",
       "      <td>NaN</td>\n",
       "      <td>NaN</td>\n",
       "      <td>NaN</td>\n",
       "    </tr>\n",
       "    <tr>\n",
       "      <th>1347</th>\n",
       "      <td>998</td>\n",
       "      <td>1982</td>\n",
       "      <td>NaN</td>\n",
       "      <td>NaN</td>\n",
       "      <td>NaN</td>\n",
       "      <td>NaN</td>\n",
       "    </tr>\n",
       "    <tr>\n",
       "      <th>1348</th>\n",
       "      <td>999</td>\n",
       "      <td>1987</td>\n",
       "      <td>NaN</td>\n",
       "      <td>NaN</td>\n",
       "      <td>NaN</td>\n",
       "      <td>NaN</td>\n",
       "    </tr>\n",
       "  </tbody>\n",
       "</table>\n",
       "<p>35829 rows × 6 columns</p>\n",
       "</div>"
      ],
      "text/plain": [
       "      Zip_Code  Year  Annual_Change     HPI  HPI_1990  HPI_2000\n",
       "1349       830  2018          14.54  926.26    669.89    269.67\n",
       "1350       588  2015           5.21  431.06    617.08    397.17\n",
       "1351       588  2014           6.15  409.74    586.55    377.52\n",
       "1352       830  2017           6.35  808.69    584.86    235.44\n",
       "1353       588  2018           3.66  408.20    584.36    376.11\n",
       "...        ...   ...            ...     ...       ...       ...\n",
       "1344       997  1981            NaN     NaN       NaN       NaN\n",
       "1345       997  1982            NaN     NaN       NaN       NaN\n",
       "1346       997  1983            NaN     NaN       NaN       NaN\n",
       "1347       998  1982            NaN     NaN       NaN       NaN\n",
       "1348       999  1987            NaN     NaN       NaN       NaN\n",
       "\n",
       "[35829 rows x 6 columns]"
      ]
     },
     "execution_count": 436,
     "metadata": {},
     "output_type": "execute_result"
    }
   ],
   "source": [
    "dh1=sqlContext.sql(\"select * from hpi_data_table ORDER BY HPI_1990 desc\")\n",
    "dh1_pandas = dh1.toPandas()\n",
    "dh1_pandas.sort_values('HPI_1990',ascending=False)"
   ]
  },
  {
   "cell_type": "markdown",
   "metadata": {},
   "source": [
    "#### From the below query result we can say that year=2018 with zip_code=943 had the highest HPI"
   ]
  },
  {
   "cell_type": "code",
   "execution_count": 450,
   "metadata": {},
   "outputs": [
    {
     "data": {
      "text/html": [
       "<div>\n",
       "<style scoped>\n",
       "    .dataframe tbody tr th:only-of-type {\n",
       "        vertical-align: middle;\n",
       "    }\n",
       "\n",
       "    .dataframe tbody tr th {\n",
       "        vertical-align: top;\n",
       "    }\n",
       "\n",
       "    .dataframe thead th {\n",
       "        text-align: right;\n",
       "    }\n",
       "</style>\n",
       "<table border=\"1\" class=\"dataframe\">\n",
       "  <thead>\n",
       "    <tr style=\"text-align: right;\">\n",
       "      <th></th>\n",
       "      <th>Zip_Code</th>\n",
       "      <th>Year</th>\n",
       "      <th>Annual_Change</th>\n",
       "      <th>HPI</th>\n",
       "      <th>HPI_1990</th>\n",
       "      <th>HPI_2000</th>\n",
       "    </tr>\n",
       "  </thead>\n",
       "  <tbody>\n",
       "    <tr>\n",
       "      <th>212</th>\n",
       "      <td>943</td>\n",
       "      <td>2018</td>\n",
       "      <td>13.41</td>\n",
       "      <td>2857.74</td>\n",
       "      <td>495.51</td>\n",
       "      <td>261.39</td>\n",
       "    </tr>\n",
       "    <tr>\n",
       "      <th>213</th>\n",
       "      <td>943</td>\n",
       "      <td>2017</td>\n",
       "      <td>10.27</td>\n",
       "      <td>2519.74</td>\n",
       "      <td>436.90</td>\n",
       "      <td>230.48</td>\n",
       "    </tr>\n",
       "    <tr>\n",
       "      <th>214</th>\n",
       "      <td>941</td>\n",
       "      <td>2018</td>\n",
       "      <td>8.38</td>\n",
       "      <td>2299.90</td>\n",
       "      <td>415.13</td>\n",
       "      <td>279.70</td>\n",
       "    </tr>\n",
       "    <tr>\n",
       "      <th>215</th>\n",
       "      <td>943</td>\n",
       "      <td>2016</td>\n",
       "      <td>15.82</td>\n",
       "      <td>2284.98</td>\n",
       "      <td>396.20</td>\n",
       "      <td>209.00</td>\n",
       "    </tr>\n",
       "    <tr>\n",
       "      <th>216</th>\n",
       "      <td>944</td>\n",
       "      <td>2018</td>\n",
       "      <td>14.77</td>\n",
       "      <td>2256.27</td>\n",
       "      <td>421.51</td>\n",
       "      <td>267.00</td>\n",
       "    </tr>\n",
       "    <tr>\n",
       "      <th>...</th>\n",
       "      <td>...</td>\n",
       "      <td>...</td>\n",
       "      <td>...</td>\n",
       "      <td>...</td>\n",
       "      <td>...</td>\n",
       "      <td>...</td>\n",
       "    </tr>\n",
       "    <tr>\n",
       "      <th>207</th>\n",
       "      <td>997</td>\n",
       "      <td>1981</td>\n",
       "      <td>NaN</td>\n",
       "      <td>NaN</td>\n",
       "      <td>NaN</td>\n",
       "      <td>NaN</td>\n",
       "    </tr>\n",
       "    <tr>\n",
       "      <th>208</th>\n",
       "      <td>997</td>\n",
       "      <td>1982</td>\n",
       "      <td>NaN</td>\n",
       "      <td>NaN</td>\n",
       "      <td>NaN</td>\n",
       "      <td>NaN</td>\n",
       "    </tr>\n",
       "    <tr>\n",
       "      <th>209</th>\n",
       "      <td>997</td>\n",
       "      <td>1983</td>\n",
       "      <td>NaN</td>\n",
       "      <td>NaN</td>\n",
       "      <td>NaN</td>\n",
       "      <td>NaN</td>\n",
       "    </tr>\n",
       "    <tr>\n",
       "      <th>210</th>\n",
       "      <td>998</td>\n",
       "      <td>1982</td>\n",
       "      <td>NaN</td>\n",
       "      <td>NaN</td>\n",
       "      <td>NaN</td>\n",
       "      <td>NaN</td>\n",
       "    </tr>\n",
       "    <tr>\n",
       "      <th>211</th>\n",
       "      <td>999</td>\n",
       "      <td>1987</td>\n",
       "      <td>NaN</td>\n",
       "      <td>NaN</td>\n",
       "      <td>NaN</td>\n",
       "      <td>NaN</td>\n",
       "    </tr>\n",
       "  </tbody>\n",
       "</table>\n",
       "<p>35829 rows × 6 columns</p>\n",
       "</div>"
      ],
      "text/plain": [
       "     Zip_Code  Year  Annual_Change      HPI  HPI_1990  HPI_2000\n",
       "212       943  2018          13.41  2857.74    495.51    261.39\n",
       "213       943  2017          10.27  2519.74    436.90    230.48\n",
       "214       941  2018           8.38  2299.90    415.13    279.70\n",
       "215       943  2016          15.82  2284.98    396.20    209.00\n",
       "216       944  2018          14.77  2256.27    421.51    267.00\n",
       "..        ...   ...            ...      ...       ...       ...\n",
       "207       997  1981            NaN      NaN       NaN       NaN\n",
       "208       997  1982            NaN      NaN       NaN       NaN\n",
       "209       997  1983            NaN      NaN       NaN       NaN\n",
       "210       998  1982            NaN      NaN       NaN       NaN\n",
       "211       999  1987            NaN      NaN       NaN       NaN\n",
       "\n",
       "[35829 rows x 6 columns]"
      ]
     },
     "execution_count": 450,
     "metadata": {},
     "output_type": "execute_result"
    }
   ],
   "source": [
    "dh12=sqlContext.sql(\"select * from hpi_data_table ORDER BY HPI desc\")\n",
    "dh12.na.drop(how='any')\n",
    "dh12_pandas = dh12.toPandas()\n",
    "dh12_pandas.sort_values('HPI',ascending=False)\n"
   ]
  },
  {
   "cell_type": "code",
   "execution_count": 439,
   "metadata": {},
   "outputs": [
    {
     "data": {
      "image/png": "[encoded data removed]",
      "text/plain": [
       "<Figure size 1440x576 with 1 Axes>"
      ]
     },
     "metadata": {},
     "output_type": "display_data"
    }
   ],
   "source": [
    "sample_df = dh12.select(['HPI']).sample(False, 0.5, 42)\n",
    "sample_df.na.drop(how='any')\n",
    "pandas_df = sample_df.toPandas()\n",
    "pandas_df.dropna(axis=1,how='any')\n",
    "# Plot distribution of pandas_df and display plot\n",
    "sns.distplot(pandas_df)\n",
    "plt.xlabel('HPI') \n",
    "plt.show()"
   ]
  },
  {
   "cell_type": "code",
   "execution_count": 441,
   "metadata": {},
   "outputs": [
    {
     "data": {
      "image/png": "[encoded data removed]",
      "text/plain": [
       "<Figure size 1440x576 with 1 Axes>"
      ]
     },
     "metadata": {},
     "output_type": "display_data"
    }
   ],
   "source": [
    "sample_df1 = dh12.select(['HPI_2000']).sample(False, 0.5, 42)\n",
    "pandas_df1 = sample_df1.toPandas()\n",
    "\n",
    "# Plot distribution of pandas_df and display plot\n",
    "sns.distplot(pandas_df1)\n",
    "plt.xlabel('HPI_2000') \n",
    "plt.show()"
   ]
  },
  {
   "cell_type": "code",
   "execution_count": 442,
   "metadata": {},
   "outputs": [
    {
     "name": "stdout",
     "output_type": "stream",
     "text": [
      "root\n",
      " |-- Zip_Code: long (nullable = true)\n",
      " |-- Year: long (nullable = true)\n",
      " |-- Annual_Change: double (nullable = true)\n",
      " |-- HPI: double (nullable = true)\n",
      " |-- HPI_1990: double (nullable = true)\n",
      " |-- HPI_2000: double (nullable = true)\n",
      "\n"
     ]
    }
   ],
   "source": [
    "dh12.printSchema()"
   ]
  },
  {
   "cell_type": "markdown",
   "metadata": {},
   "source": [
    "### Converting the datatype for the columns for visualzation"
   ]
  },
  {
   "cell_type": "code",
   "execution_count": 454,
   "metadata": {},
   "outputs": [
    {
     "data": {
      "text/html": [
       "<div>\n",
       "<style scoped>\n",
       "    .dataframe tbody tr th:only-of-type {\n",
       "        vertical-align: middle;\n",
       "    }\n",
       "\n",
       "    .dataframe tbody tr th {\n",
       "        vertical-align: top;\n",
       "    }\n",
       "\n",
       "    .dataframe thead th {\n",
       "        text-align: right;\n",
       "    }\n",
       "</style>\n",
       "<table border=\"1\" class=\"dataframe\">\n",
       "  <thead>\n",
       "    <tr style=\"text-align: right;\">\n",
       "      <th></th>\n",
       "      <th>HPI_1990</th>\n",
       "      <th>HPI_2000</th>\n",
       "      <th>HPI</th>\n",
       "    </tr>\n",
       "  </thead>\n",
       "  <tbody>\n",
       "    <tr>\n",
       "      <th>0</th>\n",
       "      <td>24</td>\n",
       "      <td>23</td>\n",
       "      <td>107.02</td>\n",
       "    </tr>\n",
       "    <tr>\n",
       "      <th>1</th>\n",
       "      <td>26</td>\n",
       "      <td>24</td>\n",
       "      <td>114.50</td>\n",
       "    </tr>\n",
       "    <tr>\n",
       "      <th>2</th>\n",
       "      <td>28</td>\n",
       "      <td>26</td>\n",
       "      <td>122.73</td>\n",
       "    </tr>\n",
       "    <tr>\n",
       "      <th>3</th>\n",
       "      <td>33</td>\n",
       "      <td>31</td>\n",
       "      <td>142.97</td>\n",
       "    </tr>\n",
       "    <tr>\n",
       "      <th>4</th>\n",
       "      <td>37</td>\n",
       "      <td>34</td>\n",
       "      <td>160.39</td>\n",
       "    </tr>\n",
       "  </tbody>\n",
       "</table>\n",
       "</div>"
      ],
      "text/plain": [
       "   HPI_1990  HPI_2000     HPI\n",
       "0        24        23  107.02\n",
       "1        26        24  114.50\n",
       "2        28        26  122.73\n",
       "3        33        31  142.97\n",
       "4        37        34  160.39"
      ]
     },
     "execution_count": 454,
     "metadata": {},
     "output_type": "execute_result"
    }
   ],
   "source": [
    "df_data = df_dataset.select(df_dataset.HPI_1990.cast(\"int\"))\n",
    "df_data1 = df_dataset.select(df_dataset.HPI_2000.cast(\"int\"))\n",
    "pandas_df_data = df_data.toPandas()\n",
    "pandas_df_data1 = df_data1.toPandas()\n",
    "df_concat = pd.concat([pandas_df_data,pandas_df_data1,df_dataset_pandas['HPI']], axis=1)\n",
    "df_concat.head()"
   ]
  },
  {
   "cell_type": "markdown",
   "metadata": {},
   "source": [
    "### Fetching the values for highest HPI and HPI_1990 value from dataframe"
   ]
  },
  {
   "cell_type": "code",
   "execution_count": 457,
   "metadata": {},
   "outputs": [
    {
     "data": {
      "text/html": [
       "<div>\n",
       "<style scoped>\n",
       "    .dataframe tbody tr th:only-of-type {\n",
       "        vertical-align: middle;\n",
       "    }\n",
       "\n",
       "    .dataframe tbody tr th {\n",
       "        vertical-align: top;\n",
       "    }\n",
       "\n",
       "    .dataframe thead th {\n",
       "        text-align: right;\n",
       "    }\n",
       "</style>\n",
       "<table border=\"1\" class=\"dataframe\">\n",
       "  <thead>\n",
       "    <tr style=\"text-align: right;\">\n",
       "      <th></th>\n",
       "      <th>Zip_Code</th>\n",
       "      <th>Year</th>\n",
       "      <th>Annual_Change</th>\n",
       "      <th>HPI</th>\n",
       "      <th>HPI_1990</th>\n",
       "      <th>HPI_2000</th>\n",
       "    </tr>\n",
       "  </thead>\n",
       "  <tbody>\n",
       "    <tr>\n",
       "      <th>0</th>\n",
       "      <td>830</td>\n",
       "      <td>2018</td>\n",
       "      <td>14.54</td>\n",
       "      <td>926.26</td>\n",
       "      <td>669.89</td>\n",
       "      <td>269.67</td>\n",
       "    </tr>\n",
       "    <tr>\n",
       "      <th>1</th>\n",
       "      <td>943</td>\n",
       "      <td>2018</td>\n",
       "      <td>13.41</td>\n",
       "      <td>2857.74</td>\n",
       "      <td>495.51</td>\n",
       "      <td>261.39</td>\n",
       "    </tr>\n",
       "  </tbody>\n",
       "</table>\n",
       "</div>"
      ],
      "text/plain": [
       "   Zip_Code  Year  Annual_Change      HPI  HPI_1990  HPI_2000\n",
       "0       830  2018          14.54   926.26    669.89    269.67\n",
       "1       943  2018          13.41  2857.74    495.51    261.39"
      ]
     },
     "execution_count": 457,
     "metadata": {},
     "output_type": "execute_result"
    }
   ],
   "source": [
    "dh5= sqlContext.sql(\"select * from hpi_data_table WHERE YEAR=2018 AND Zip_Code IN (943,830) \")\n",
    "dh5.na.drop(how='any')\n",
    "dh5_pandas = dh5.toPandas()\n",
    "dh5_pandas.head()"
   ]
  },
  {
   "cell_type": "code",
   "execution_count": null,
   "metadata": {},
   "outputs": [],
   "source": []
  },
  {
   "cell_type": "code",
   "execution_count": 466,
   "metadata": {},
   "outputs": [
    {
     "data": {
      "image/png": "[encoded data removed]",
      "text/plain": [
       "<Figure size 360x360 with 1 Axes>"
      ]
     },
     "metadata": {},
     "output_type": "display_data"
    }
   ],
   "source": [
    "sns.lmplot( x=\"HPI_1990\", y=\"HPI_2000\", data=dh5_pandas, fit_reg=False, hue='HPI_1990', legend=False)\n",
    " \n",
    "# Move the legend to an empty part of the plot\n",
    "plt.legend(loc='lower right')\n",
    "plt.show()\n"
   ]
  },
  {
   "cell_type": "code",
   "execution_count": 349,
   "metadata": {},
   "outputs": [
    {
     "data": {
      "text/plain": [
       "<seaborn.axisgrid.JointGrid at 0x2ba26529ac8>"
      ]
     },
     "execution_count": 349,
     "metadata": {},
     "output_type": "execute_result"
    },
    {
     "data": {
      "image/png": "[encoded data removed]",
      "text/plain": [
       "<Figure size 432x432 with 3 Axes>"
      ]
     },
     "metadata": {},
     "output_type": "display_data"
    }
   ],
   "source": [
    "sns.jointplot(x=df_concat[\"HPI_1990\"], y=df_concat[\"HPI_2000\"], kind='kde')"
   ]
  },
  {
   "cell_type": "code",
   "execution_count": 368,
   "metadata": {},
   "outputs": [
    {
     "data": {
      "text/html": [
       "<div>\n",
       "<style scoped>\n",
       "    .dataframe tbody tr th:only-of-type {\n",
       "        vertical-align: middle;\n",
       "    }\n",
       "\n",
       "    .dataframe tbody tr th {\n",
       "        vertical-align: top;\n",
       "    }\n",
       "\n",
       "    .dataframe thead th {\n",
       "        text-align: right;\n",
       "    }\n",
       "</style>\n",
       "<table border=\"1\" class=\"dataframe\">\n",
       "  <thead>\n",
       "    <tr style=\"text-align: right;\">\n",
       "      <th></th>\n",
       "      <th>Zip_Code</th>\n",
       "      <th>Year</th>\n",
       "      <th>Annual_Change</th>\n",
       "      <th>HPI</th>\n",
       "      <th>HPI_1990</th>\n",
       "      <th>HPI_2000</th>\n",
       "    </tr>\n",
       "  </thead>\n",
       "  <tbody>\n",
       "    <tr>\n",
       "      <th>0</th>\n",
       "      <td>10</td>\n",
       "      <td>2018</td>\n",
       "      <td>4.25</td>\n",
       "      <td>742.74</td>\n",
       "      <td>172.96</td>\n",
       "      <td>161.93</td>\n",
       "    </tr>\n",
       "    <tr>\n",
       "      <th>1</th>\n",
       "      <td>11</td>\n",
       "      <td>2018</td>\n",
       "      <td>7.16</td>\n",
       "      <td>764.42</td>\n",
       "      <td>149.87</td>\n",
       "      <td>160.31</td>\n",
       "    </tr>\n",
       "    <tr>\n",
       "      <th>2</th>\n",
       "      <td>12</td>\n",
       "      <td>2018</td>\n",
       "      <td>5.41</td>\n",
       "      <td>414.19</td>\n",
       "      <td>163.31</td>\n",
       "      <td>158.15</td>\n",
       "    </tr>\n",
       "    <tr>\n",
       "      <th>3</th>\n",
       "      <td>13</td>\n",
       "      <td>2018</td>\n",
       "      <td>7.91</td>\n",
       "      <td>285.71</td>\n",
       "      <td>172.45</td>\n",
       "      <td>157.56</td>\n",
       "    </tr>\n",
       "    <tr>\n",
       "      <th>4</th>\n",
       "      <td>14</td>\n",
       "      <td>2018</td>\n",
       "      <td>6.68</td>\n",
       "      <td>739.20</td>\n",
       "      <td>191.41</td>\n",
       "      <td>149.97</td>\n",
       "    </tr>\n",
       "  </tbody>\n",
       "</table>\n",
       "</div>"
      ],
      "text/plain": [
       "   Zip_Code  Year  Annual_Change     HPI  HPI_1990  HPI_2000\n",
       "0        10  2018           4.25  742.74    172.96    161.93\n",
       "1        11  2018           7.16  764.42    149.87    160.31\n",
       "2        12  2018           5.41  414.19    163.31    158.15\n",
       "3        13  2018           7.91  285.71    172.45    157.56\n",
       "4        14  2018           6.68  739.20    191.41    149.97"
      ]
     },
     "execution_count": 368,
     "metadata": {},
     "output_type": "execute_result"
    }
   ],
   "source": [
    "dh2=sqlContext.sql(\"select * from hpi_data_table WHERE Year='2018'\")\n",
    "dh2_pandas = dh2.toPandas()\n",
    "dh2_pandas.head()"
   ]
  },
  {
   "cell_type": "code",
   "execution_count": 371,
   "metadata": {},
   "outputs": [
    {
     "data": {
      "text/plain": [
       "<matplotlib.legend.Legend at 0x2ba26ba82b0>"
      ]
     },
     "execution_count": 371,
     "metadata": {},
     "output_type": "execute_result"
    },
    {
     "data": {
      "image/png": "[encoded data removed]",
      "text/plain": [
       "<Figure size 1440x576 with 1 Axes>"
      ]
     },
     "metadata": {},
     "output_type": "display_data"
    }
   ],
   "source": [
    "from pylab import rcParams\n",
    "rcParams['figure.figsize'] = 20, 8\n",
    "plt.plot( 'Zip_Code', 'HPI_1990', data=dh2_pandas, marker='o', markerfacecolor='brown', markersize=8, color='skyblue', linewidth=4)\n",
    "plt.plot( 'Zip_Code', 'HPI_2000', data=dh2_pandas, marker='', color='olive', linewidth=2)\n",
    "plt.legend()"
   ]
  },
  {
   "cell_type": "code",
   "execution_count": 386,
   "metadata": {},
   "outputs": [
    {
     "data": {
      "text/html": [
       "<div>\n",
       "<style scoped>\n",
       "    .dataframe tbody tr th:only-of-type {\n",
       "        vertical-align: middle;\n",
       "    }\n",
       "\n",
       "    .dataframe tbody tr th {\n",
       "        vertical-align: top;\n",
       "    }\n",
       "\n",
       "    .dataframe thead th {\n",
       "        text-align: right;\n",
       "    }\n",
       "</style>\n",
       "<table border=\"1\" class=\"dataframe\">\n",
       "  <thead>\n",
       "    <tr style=\"text-align: right;\">\n",
       "      <th></th>\n",
       "      <th>Zip_Code</th>\n",
       "      <th>HPI</th>\n",
       "    </tr>\n",
       "  </thead>\n",
       "  <tbody>\n",
       "    <tr>\n",
       "      <th>0</th>\n",
       "      <td>227</td>\n",
       "      <td>278.93</td>\n",
       "    </tr>\n",
       "    <tr>\n",
       "      <th>1</th>\n",
       "      <td>804</td>\n",
       "      <td>898.57</td>\n",
       "    </tr>\n",
       "    <tr>\n",
       "      <th>2</th>\n",
       "      <td>903</td>\n",
       "      <td>1270.41</td>\n",
       "    </tr>\n",
       "    <tr>\n",
       "      <th>3</th>\n",
       "      <td>937</td>\n",
       "      <td>703.06</td>\n",
       "    </tr>\n",
       "    <tr>\n",
       "      <th>4</th>\n",
       "      <td>172</td>\n",
       "      <td>294.69</td>\n",
       "    </tr>\n",
       "  </tbody>\n",
       "</table>\n",
       "</div>"
      ],
      "text/plain": [
       "   Zip_Code      HPI\n",
       "0       227   278.93\n",
       "1       804   898.57\n",
       "2       903  1270.41\n",
       "3       937   703.06\n",
       "4       172   294.69"
      ]
     },
     "execution_count": 386,
     "metadata": {},
     "output_type": "execute_result"
    }
   ],
   "source": [
    "dh3=sqlContext.sql(\"select Zip_Code,HPI from hpi_data_table WHERE Year='2018' GROUP BY Zip_Code,HPI \")\n",
    "dh3_pandas = dh3.toPandas()\n",
    "dh3_pandas.sort_values('HPI',ascending=False)\n",
    "dh3_pandas.head()"
   ]
  },
  {
   "cell_type": "code",
   "execution_count": 414,
   "metadata": {},
   "outputs": [
    {
     "data": {
      "text/html": [
       "<div>\n",
       "<style scoped>\n",
       "    .dataframe tbody tr th:only-of-type {\n",
       "        vertical-align: middle;\n",
       "    }\n",
       "\n",
       "    .dataframe tbody tr th {\n",
       "        vertical-align: top;\n",
       "    }\n",
       "\n",
       "    .dataframe thead th {\n",
       "        text-align: right;\n",
       "    }\n",
       "</style>\n",
       "<table border=\"1\" class=\"dataframe\">\n",
       "  <thead>\n",
       "    <tr style=\"text-align: right;\">\n",
       "      <th></th>\n",
       "      <th>Annual_Change</th>\n",
       "    </tr>\n",
       "  </thead>\n",
       "  <tbody>\n",
       "    <tr>\n",
       "      <th>0</th>\n",
       "      <td>-12.26</td>\n",
       "    </tr>\n",
       "    <tr>\n",
       "      <th>1</th>\n",
       "      <td>-8.68</td>\n",
       "    </tr>\n",
       "    <tr>\n",
       "      <th>2</th>\n",
       "      <td>-7.55</td>\n",
       "    </tr>\n",
       "    <tr>\n",
       "      <th>3</th>\n",
       "      <td>-7.38</td>\n",
       "    </tr>\n",
       "    <tr>\n",
       "      <th>4</th>\n",
       "      <td>-6.86</td>\n",
       "    </tr>\n",
       "  </tbody>\n",
       "</table>\n",
       "</div>"
      ],
      "text/plain": [
       "   Annual_Change\n",
       "0         -12.26\n",
       "1          -8.68\n",
       "2          -7.55\n",
       "3          -7.38\n",
       "4          -6.86"
      ]
     },
     "execution_count": 414,
     "metadata": {},
     "output_type": "execute_result"
    }
   ],
   "source": [
    "dh4=sqlContext.sql(\"select Annual_Change from hpi_data_table WHERE Year=2018 order by Annual_Change  \")\n",
    "dh4.na.drop(how='any')\n",
    "dh4_pandas = dh4.toPandas()\n",
    "dh4_pandas.head()"
   ]
  },
  {
   "cell_type": "code",
   "execution_count": 415,
   "metadata": {},
   "outputs": [
    {
     "data": {
      "text/plain": [
       "Annual_Change    2\n",
       "dtype: int64"
      ]
     },
     "execution_count": 415,
     "metadata": {},
     "output_type": "execute_result"
    }
   ],
   "source": [
    "dh4_pandas.isna().sum()"
   ]
  },
  {
   "cell_type": "code",
   "execution_count": 417,
   "metadata": {},
   "outputs": [
    {
     "data": {
      "text/plain": [
       "[Text(0.5, 0, '')]"
      ]
     },
     "execution_count": 417,
     "metadata": {},
     "output_type": "execute_result"
    },
    {
     "data": {
      "image/png": "[encoded data removed]",
      "text/plain": [
       "<Figure size 1440x576 with 2 Axes>"
      ]
     },
     "metadata": {},
     "output_type": "display_data"
    }
   ],
   "source": [
    "\n",
    "f, (ax_box, ax_hist) = plt.subplots(2, sharex=True, gridspec_kw={\"height_ratios\": (.15, .85)})\n",
    " \n",
    "# Add a graph in each part\n",
    "sns.boxplot(dh3_pandas[\"HPI\"], ax=ax_box)\n",
    "sns.distplot(dh3_pandas[\"HPI\"], ax=ax_hist)\n",
    " \n",
    "# Remove x axis name for the boxplot\n",
    "ax_box.set(xlabel='')\n",
    "\n"
   ]
  },
  {
   "cell_type": "code",
   "execution_count": null,
   "metadata": {},
   "outputs": [],
   "source": []
  }
 ],
 "metadata": {
  "kernelspec": {
   "display_name": "Python 3",
   "language": "python",
   "name": "python3"
  },
  "language_info": {
   "codemirror_mode": {
    "name": "ipython",
    "version": 3
   },
   "file_extension": ".py",
   "mimetype": "text/x-python",
   "name": "python",
   "nbconvert_exporter": "python",
   "pygments_lexer": "ipython3",
   "version": "3.7.0"
  }
 },
 "nbformat": 4,
 "nbformat_minor": 4
}
